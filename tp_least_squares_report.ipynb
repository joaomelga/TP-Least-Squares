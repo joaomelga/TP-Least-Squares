{
 "cells": [
  {
   "cell_type": "code",
   "execution_count": null,
   "metadata": {},
   "outputs": [],
   "source": [
    "import numpy as np\n",
    "import data_center_helper as dch\n",
    "import matplotlib.pyplot as plt"
   ]
  },
  {
   "cell_type": "markdown",
   "metadata": {},
   "source": [
    "---\n",
    "3.1 Show that if Aw = b, they y(t) = ..."
   ]
  },
  {
   "cell_type": "markdown",
   "metadata": {},
   "source": [
    "---\n",
    "3.2 Solve this least squares problem using the funtion numpy.linalg.lstsq."
   ]
  },
  {
   "cell_type": "code",
   "execution_count": 15,
   "metadata": {},
   "outputs": [
    {
     "data": {
      "text/plain": [
       "array([-0.00927821,  0.08309371, -0.03672704, ...,  0.01980595,\n",
       "       -0.03057174, -0.01188614])"
      ]
     },
     "execution_count": 15,
     "metadata": {},
     "output_type": "execute_result"
    }
   ],
   "source": [
    "A = dch.A\n",
    "b = dch.b\n",
    "\n",
    "result = np.linalg.lstsq(A, b, rcond=None)\n",
    "\n",
    "coeficients = result[0]\n",
    "coeficients"
   ]
  },
  {
   "cell_type": "markdown",
   "metadata": {},
   "source": [
    "---\n",
    "3.3 Evaluate the quality of the solution found on the test set."
   ]
  },
  {
   "cell_type": "code",
   "execution_count": 22,
   "metadata": {},
   "outputs": [
    {
     "name": "stdout",
     "output_type": "stream",
     "text": [
      "MSE:  780.8984793523297\n"
     ]
    },
    {
     "data": {
      "image/png": "[encoded data removed]",
      "text/plain": [
       "<Figure size 640x480 with 1 Axes>"
      ]
     },
     "metadata": {},
     "output_type": "display_data"
    }
   ],
   "source": [
    "A_test = dch.A_test\n",
    "b_test = dch.b_test\n",
    "\n",
    "b_hat = np.dot(A_test, coeficients)\n",
    "\n",
    "mse = np.mean((b_test - b_hat)**2)\n",
    "print('MSE: ', mse)\n",
    "\n",
    "plt.scatter(b_test, b_hat)\n",
    "plt.xlabel('b_test')\n",
    "plt.ylabel('b_hat')\n",
    "plt.title('Relationship between b_test and b_hat')\n",
    "plt.show()\n"
   ]
  },
  {
   "cell_type": "markdown",
   "metadata": {},
   "source": [
    "---\n",
    "3.4 In order to improve the generalization power of the model, we consider a $L_2$ regularization:\n",
    "\n",
    "$$\n",
    "\\min_w \\frac{1}{2} \\| A w - b \\|^2 + \\frac{\\lambda}{2} \\| w \\|^2\n",
    "$$\n",
    "\n",
    "where $\\lambda = 100$. Solve this problem and compare the test mean square error with the unregularized one."
   ]
  },
  {
   "cell_type": "code",
   "execution_count": 36,
   "metadata": {},
   "outputs": [
    {
     "name": "stdout",
     "output_type": "stream",
     "text": [
      "MSE:  301.05482809422307\n"
     ]
    }
   ],
   "source": [
    "lambda_ = 100\n",
    "coeficients_l2 = np.linalg.solve(np.dot(A.T, A) + lambda_ * np.eye(A.shape[1]), np.dot(A.T, b))\n",
    "\n",
    "b_hat_l2 = np.dot(A_test, coeficients_l2)\n",
    "\n",
    "mse_l2 = np.mean((b_test - b_hat_l2)**2)\n",
    "print('MSE: ', mse_l2)"
   ]
  },
  {
   "cell_type": "markdown",
   "metadata": {},
   "source": [
    "---\n",
    "3.5 Calculate the gradient of f1 : w -> $ \\frac{1}{2} \\| A w - b \\|^2 + \\frac{\\lambda}{2} \\| w \\|^2$"
   ]
  },
  {
   "cell_type": "code",
   "execution_count": 37,
   "metadata": {},
   "outputs": [
    {
     "data": {
      "text/plain": [
       "[]"
      ]
     },
     "execution_count": 37,
     "metadata": {},
     "output_type": "execute_result"
    }
   ],
   "source": [
    "f1 = 0.5 * np.linalg.norm(A.dot(coeficients_l2) - b) ** 2 + (lambda_/2) * np.linalg.norm(coeficients_l2) ** 2\n",
    "print('f1: ', f1)\n",
    "gradient = np.gradient(f1)\n",
    "gradient"
   ]
  }
 ],
 "metadata": {
  "kernelspec": {
   "display_name": "Python 3",
   "language": "python",
   "name": "python3"
  },
  "language_info": {
   "codemirror_mode": {
    "name": "ipython",
    "version": 3
   },
   "file_extension": ".py",
   "mimetype": "text/x-python",
   "name": "python",
   "nbconvert_exporter": "python",
   "pygments_lexer": "ipython3",
   "version": "3.11.7"
  }
 },
 "nbformat": 4,
 "nbformat_minor": 2
}
